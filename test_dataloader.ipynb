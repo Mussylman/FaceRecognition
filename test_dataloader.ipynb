{
 "cells": [
  {
   "cell_type": "code",
   "execution_count": 3,
   "id": "a31d5ee3-cafa-45a9-872b-00547c19acfb",
   "metadata": {},
   "outputs": [],
   "source": [
    "from torch.utils.data import Dataset, DataLoader\n",
    "import numpy as np\n",
    "import torch\n",
    "import psutil\n",
    "import uuid\n",
    "import matplotlib.pyplot as plt"
   ]
  },
  {
   "cell_type": "code",
   "execution_count": 5,
   "id": "55b74f5c-419f-4f26-9ce0-25584ffc1b36",
   "metadata": {},
   "outputs": [
    {
     "name": "stdout",
     "output_type": "stream",
     "text": [
      "Size in Mem: 76.2939453125\n",
      "Datatype of nparray: object\n",
      "MemFlags:   C_CONTIGUOUS : True\n",
      "  F_CONTIGUOUS : True\n",
      "  OWNDATA : True\n",
      "  WRITEABLE : True\n",
      "  ALIGNED : True\n",
      "  WRITEBACKIFCOPY : False\n",
      "\n",
      "Size of item: 8\n",
      "np strides: (8,)\n"
     ]
    }
   ],
   "source": [
    "class DataIter(Dataset):\n",
    "    def __init__(self):\n",
    "        \n",
    "        self.data_np = np.array([str(uuid.uuid4()) for i in range(10000000)], dtype=object)\n",
    "        # self.data_np = np.array([str(uuid.uuid4()) for i in range(10000000)], dtype=np.string_)\n",
    "        \n",
    "        print('Size in Mem:', self.data_np.nbytes/1024**2)\n",
    "        print('Datatype of nparray:',self.data_np.dtype)\n",
    "        print('MemFlags:', self.data_np.flags)\n",
    "        print('Size of item:', self.data_np.itemsize)\n",
    "        #print('Mem adress':, self.data_np.data)\n",
    "        print('np strides:', self.data_np.strides)         \n",
    "        \n",
    "    def __len__(self):\n",
    "        return len(self.data_np)\n",
    "\n",
    "    def __getitem__(self, idx):\n",
    "        data = self.data_np[idx]\n",
    "        return 42\n",
    "\n",
    "\n",
    "train_data = DataIter()"
   ]
  },
  {
   "cell_type": "code",
   "execution_count": null,
   "id": "f7e869bf-d045-477a-ae18-40d067da17a9",
   "metadata": {},
   "outputs": [],
   "source": [
    "mem_used=[]\n",
    "mem_used.append(psutil.virtual_memory().used/1024**3)\n",
    "train_loader = DataLoader(train_data, batch_size=50,\n",
    "                          shuffle=True,\n",
    "                          drop_last=True,\n",
    "                          pin_memory=False,\n",
    "                          num_workers=4)\n",
    "\n",
    "for i, item in enumerate(train_loader):\n",
    "    if i % 1000 == 0:\n",
    "        mem = psutil.virtual_memory()\n",
    "        print(f'{i:8} - {mem.percent:5} - {mem.free/1024**3:10.2f} - {mem.available/1024**3:10.2f} - {mem.used/1024**3:10.2f}')\n",
    "        mem_used.append(mem.used/1024**3)"
   ]
  },
  {
   "cell_type": "code",
   "execution_count": null,
   "id": "2017e562-90e4-4853-a66e-27cf22cc4ef6",
   "metadata": {},
   "outputs": [],
   "source": []
  }
 ],
 "metadata": {
  "kernelspec": {
   "display_name": "Python (my_pytorch_env)",
   "language": "python",
   "name": "my_pytorch_env"
  },
  "language_info": {
   "codemirror_mode": {
    "name": "ipython",
    "version": 3
   },
   "file_extension": ".py",
   "mimetype": "text/x-python",
   "name": "python",
   "nbconvert_exporter": "python",
   "pygments_lexer": "ipython3",
   "version": "3.12.7"
  }
 },
 "nbformat": 4,
 "nbformat_minor": 5
}
