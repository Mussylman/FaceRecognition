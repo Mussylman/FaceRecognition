{
 "cells": [
  {
   "cell_type": "code",
   "execution_count": 11,
   "id": "43e0a71e-b7e6-4fff-bf6d-77476de2efc0",
   "metadata": {},
   "outputs": [
    {
     "name": "stdout",
     "output_type": "stream",
     "text": [
      "Collecting ultralytics\n",
      "  Downloading ultralytics-8.3.32-py3-none-any.whl.metadata (35 kB)\n",
      "Requirement already satisfied: numpy>=1.23.0 in c:\\programdata\\anaconda3\\envs\\my_pytorch_env\\lib\\site-packages (from ultralytics) (2.0.1)\n",
      "Requirement already satisfied: matplotlib>=3.3.0 in c:\\programdata\\anaconda3\\envs\\my_pytorch_env\\lib\\site-packages (from ultralytics) (3.9.2)\n",
      "Requirement already satisfied: opencv-python>=4.6.0 in c:\\programdata\\anaconda3\\envs\\my_pytorch_env\\lib\\site-packages (from ultralytics) (4.10.0.84)\n",
      "Requirement already satisfied: pillow>=7.1.2 in c:\\programdata\\anaconda3\\envs\\my_pytorch_env\\lib\\site-packages (from ultralytics) (10.4.0)\n",
      "Requirement already satisfied: pyyaml>=5.3.1 in c:\\programdata\\anaconda3\\envs\\my_pytorch_env\\lib\\site-packages (from ultralytics) (6.0.2)\n",
      "Requirement already satisfied: requests>=2.23.0 in c:\\programdata\\anaconda3\\envs\\my_pytorch_env\\lib\\site-packages (from ultralytics) (2.32.3)\n",
      "Collecting scipy>=1.4.1 (from ultralytics)\n",
      "  Downloading scipy-1.14.1-cp312-cp312-win_amd64.whl.metadata (60 kB)\n",
      "Requirement already satisfied: torch>=1.8.0 in c:\\programdata\\anaconda3\\envs\\my_pytorch_env\\lib\\site-packages (from ultralytics) (2.5.1)\n",
      "Requirement already satisfied: torchvision>=0.9.0 in c:\\programdata\\anaconda3\\envs\\my_pytorch_env\\lib\\site-packages (from ultralytics) (0.20.1)\n",
      "Requirement already satisfied: tqdm>=4.64.0 in c:\\programdata\\anaconda3\\envs\\my_pytorch_env\\lib\\site-packages (from ultralytics) (4.66.6)\n",
      "Requirement already satisfied: psutil in c:\\programdata\\anaconda3\\envs\\my_pytorch_env\\lib\\site-packages (from ultralytics) (5.9.0)\n",
      "Collecting py-cpuinfo (from ultralytics)\n",
      "  Using cached py_cpuinfo-9.0.0-py3-none-any.whl.metadata (794 bytes)\n",
      "Collecting pandas>=1.1.4 (from ultralytics)\n",
      "  Downloading pandas-2.2.3-cp312-cp312-win_amd64.whl.metadata (19 kB)\n",
      "Collecting seaborn>=0.11.0 (from ultralytics)\n",
      "  Using cached seaborn-0.13.2-py3-none-any.whl.metadata (5.4 kB)\n",
      "Collecting ultralytics-thop>=2.0.0 (from ultralytics)\n",
      "  Using cached ultralytics_thop-2.0.11-py3-none-any.whl.metadata (9.4 kB)\n",
      "Requirement already satisfied: contourpy>=1.0.1 in c:\\programdata\\anaconda3\\envs\\my_pytorch_env\\lib\\site-packages (from matplotlib>=3.3.0->ultralytics) (1.3.0)\n",
      "Requirement already satisfied: cycler>=0.10 in c:\\programdata\\anaconda3\\envs\\my_pytorch_env\\lib\\site-packages (from matplotlib>=3.3.0->ultralytics) (0.12.1)\n",
      "Requirement already satisfied: fonttools>=4.22.0 in c:\\programdata\\anaconda3\\envs\\my_pytorch_env\\lib\\site-packages (from matplotlib>=3.3.0->ultralytics) (4.54.1)\n",
      "Requirement already satisfied: kiwisolver>=1.3.1 in c:\\programdata\\anaconda3\\envs\\my_pytorch_env\\lib\\site-packages (from matplotlib>=3.3.0->ultralytics) (1.4.7)\n",
      "Requirement already satisfied: packaging>=20.0 in c:\\programdata\\anaconda3\\envs\\my_pytorch_env\\lib\\site-packages (from matplotlib>=3.3.0->ultralytics) (24.1)\n",
      "Requirement already satisfied: pyparsing>=2.3.1 in c:\\programdata\\anaconda3\\envs\\my_pytorch_env\\lib\\site-packages (from matplotlib>=3.3.0->ultralytics) (3.2.0)\n",
      "Requirement already satisfied: python-dateutil>=2.7 in c:\\programdata\\anaconda3\\envs\\my_pytorch_env\\lib\\site-packages (from matplotlib>=3.3.0->ultralytics) (2.9.0.post0)\n",
      "Collecting pytz>=2020.1 (from pandas>=1.1.4->ultralytics)\n",
      "  Using cached pytz-2024.2-py2.py3-none-any.whl.metadata (22 kB)\n",
      "Collecting tzdata>=2022.7 (from pandas>=1.1.4->ultralytics)\n",
      "  Using cached tzdata-2024.2-py2.py3-none-any.whl.metadata (1.4 kB)\n",
      "Requirement already satisfied: charset-normalizer<4,>=2 in c:\\programdata\\anaconda3\\envs\\my_pytorch_env\\lib\\site-packages (from requests>=2.23.0->ultralytics) (3.3.2)\n",
      "Requirement already satisfied: idna<4,>=2.5 in c:\\programdata\\anaconda3\\envs\\my_pytorch_env\\lib\\site-packages (from requests>=2.23.0->ultralytics) (3.7)\n",
      "Requirement already satisfied: urllib3<3,>=1.21.1 in c:\\programdata\\anaconda3\\envs\\my_pytorch_env\\lib\\site-packages (from requests>=2.23.0->ultralytics) (2.2.3)\n",
      "Requirement already satisfied: certifi>=2017.4.17 in c:\\programdata\\anaconda3\\envs\\my_pytorch_env\\lib\\site-packages (from requests>=2.23.0->ultralytics) (2024.8.30)\n",
      "Requirement already satisfied: filelock in c:\\programdata\\anaconda3\\envs\\my_pytorch_env\\lib\\site-packages (from torch>=1.8.0->ultralytics) (3.13.1)\n",
      "Requirement already satisfied: typing-extensions>=4.8.0 in c:\\programdata\\anaconda3\\envs\\my_pytorch_env\\lib\\site-packages (from torch>=1.8.0->ultralytics) (4.11.0)\n",
      "Requirement already satisfied: setuptools in c:\\programdata\\anaconda3\\envs\\my_pytorch_env\\lib\\site-packages (from torch>=1.8.0->ultralytics) (75.3.0)\n",
      "Requirement already satisfied: sympy==1.13.1 in c:\\programdata\\anaconda3\\envs\\my_pytorch_env\\lib\\site-packages (from torch>=1.8.0->ultralytics) (1.13.1)\n",
      "Requirement already satisfied: networkx in c:\\programdata\\anaconda3\\envs\\my_pytorch_env\\lib\\site-packages (from torch>=1.8.0->ultralytics) (3.2.1)\n",
      "Requirement already satisfied: jinja2 in c:\\programdata\\anaconda3\\envs\\my_pytorch_env\\lib\\site-packages (from torch>=1.8.0->ultralytics) (3.1.4)\n",
      "Requirement already satisfied: fsspec in c:\\programdata\\anaconda3\\envs\\my_pytorch_env\\lib\\site-packages (from torch>=1.8.0->ultralytics) (2024.10.0)\n",
      "Requirement already satisfied: mpmath<1.4,>=1.1.0 in c:\\programdata\\anaconda3\\envs\\my_pytorch_env\\lib\\site-packages (from sympy==1.13.1->torch>=1.8.0->ultralytics) (1.3.0)\n",
      "Requirement already satisfied: colorama in c:\\programdata\\anaconda3\\envs\\my_pytorch_env\\lib\\site-packages (from tqdm>=4.64.0->ultralytics) (0.4.6)\n",
      "Requirement already satisfied: six>=1.5 in c:\\programdata\\anaconda3\\envs\\my_pytorch_env\\lib\\site-packages (from python-dateutil>=2.7->matplotlib>=3.3.0->ultralytics) (1.16.0)\n",
      "Requirement already satisfied: MarkupSafe>=2.0 in c:\\programdata\\anaconda3\\envs\\my_pytorch_env\\lib\\site-packages (from jinja2->torch>=1.8.0->ultralytics) (2.1.3)\n",
      "Downloading ultralytics-8.3.32-py3-none-any.whl (887 kB)\n",
      "   ---------------------------------------- 0.0/887.0 kB ? eta -:--:--\n",
      "   ----------------------- ---------------- 524.3/887.0 kB 3.4 MB/s eta 0:00:01\n",
      "   ---------------------------------------- 887.0/887.0 kB 3.3 MB/s eta 0:00:00\n",
      "Downloading pandas-2.2.3-cp312-cp312-win_amd64.whl (11.5 MB)\n",
      "   ---------------------------------------- 0.0/11.5 MB ? eta -:--:--\n",
      "   -------- ------------------------------- 2.4/11.5 MB 15.0 MB/s eta 0:00:01\n",
      "   --------------- ------------------------ 4.5/11.5 MB 11.7 MB/s eta 0:00:01\n",
      "   ----------------- ---------------------- 5.0/11.5 MB 8.0 MB/s eta 0:00:01\n",
      "   ------------------- -------------------- 5.5/11.5 MB 7.0 MB/s eta 0:00:01\n",
      "   -------------------- ------------------- 6.0/11.5 MB 5.7 MB/s eta 0:00:01\n",
      "   ---------------------- ----------------- 6.6/11.5 MB 5.0 MB/s eta 0:00:01\n",
      "   ------------------------- -------------- 7.3/11.5 MB 4.8 MB/s eta 0:00:01\n",
      "   -------------------------------- ------- 9.4/11.5 MB 5.5 MB/s eta 0:00:01\n",
      "   --------------------------------- ------ 9.7/11.5 MB 5.2 MB/s eta 0:00:01\n",
      "   ---------------------------------------  11.3/11.5 MB 5.3 MB/s eta 0:00:01\n",
      "   ---------------------------------------- 11.5/11.5 MB 5.1 MB/s eta 0:00:00\n",
      "Downloading scipy-1.14.1-cp312-cp312-win_amd64.whl (44.5 MB)\n",
      "   ---------------------------------------- 0.0/44.5 MB ? eta -:--:--\n",
      "   ---------------------------------------- 0.5/44.5 MB 2.8 MB/s eta 0:00:16\n",
      "   - -------------------------------------- 1.6/44.5 MB 3.4 MB/s eta 0:00:13\n",
      "   -- ------------------------------------- 2.4/44.5 MB 3.5 MB/s eta 0:00:12\n",
      "   -- ------------------------------------- 2.4/44.5 MB 3.5 MB/s eta 0:00:12\n",
      "   -- ------------------------------------- 2.6/44.5 MB 2.7 MB/s eta 0:00:16\n",
      "   -- ------------------------------------- 2.9/44.5 MB 2.5 MB/s eta 0:00:17\n",
      "   -- ------------------------------------- 3.1/44.5 MB 2.3 MB/s eta 0:00:19\n",
      "   --- ------------------------------------ 3.4/44.5 MB 2.0 MB/s eta 0:00:21\n",
      "   --- ------------------------------------ 3.7/44.5 MB 1.8 MB/s eta 0:00:23\n",
      "   --- ------------------------------------ 3.7/44.5 MB 1.8 MB/s eta 0:00:23\n",
      "   --- ------------------------------------ 3.9/44.5 MB 1.7 MB/s eta 0:00:24\n",
      "   --- ------------------------------------ 4.2/44.5 MB 1.7 MB/s eta 0:00:25\n",
      "   ---- ----------------------------------- 4.5/44.5 MB 1.6 MB/s eta 0:00:26\n",
      "   ---- ----------------------------------- 4.7/44.5 MB 1.6 MB/s eta 0:00:26\n",
      "   ---- ----------------------------------- 5.0/44.5 MB 1.5 MB/s eta 0:00:27\n",
      "   ---- ----------------------------------- 5.2/44.5 MB 1.5 MB/s eta 0:00:27\n",
      "   ---- ----------------------------------- 5.2/44.5 MB 1.5 MB/s eta 0:00:27\n",
      "   ---- ----------------------------------- 5.5/44.5 MB 1.5 MB/s eta 0:00:27\n",
      "   ----- ---------------------------------- 5.8/44.5 MB 1.4 MB/s eta 0:00:27\n",
      "   ----- ---------------------------------- 6.0/44.5 MB 1.4 MB/s eta 0:00:27\n",
      "   ----- ---------------------------------- 6.3/44.5 MB 1.4 MB/s eta 0:00:27\n",
      "   ----- ---------------------------------- 6.6/44.5 MB 1.4 MB/s eta 0:00:27\n",
      "   ------ --------------------------------- 6.8/44.5 MB 1.4 MB/s eta 0:00:27\n",
      "   ------ --------------------------------- 7.3/44.5 MB 1.4 MB/s eta 0:00:27\n",
      "   ------ --------------------------------- 7.6/44.5 MB 1.4 MB/s eta 0:00:27\n",
      "   ------- -------------------------------- 7.9/44.5 MB 1.4 MB/s eta 0:00:27\n",
      "   ------- -------------------------------- 8.1/44.5 MB 1.4 MB/s eta 0:00:26\n",
      "   ------- -------------------------------- 8.4/44.5 MB 1.4 MB/s eta 0:00:26\n",
      "   ------- -------------------------------- 8.7/44.5 MB 1.4 MB/s eta 0:00:26\n",
      "   -------- ------------------------------- 9.2/44.5 MB 1.4 MB/s eta 0:00:25\n",
      "   -------- ------------------------------- 9.4/44.5 MB 1.4 MB/s eta 0:00:25\n",
      "   -------- ------------------------------- 9.7/44.5 MB 1.4 MB/s eta 0:00:25\n",
      "   -------- ------------------------------- 10.0/44.5 MB 1.4 MB/s eta 0:00:25\n",
      "   -------- ------------------------------- 10.0/44.5 MB 1.4 MB/s eta 0:00:25\n",
      "   -------- ------------------------------- 10.0/44.5 MB 1.4 MB/s eta 0:00:25\n",
      "   -------- ------------------------------- 10.0/44.5 MB 1.4 MB/s eta 0:00:25\n",
      "   -------- ------------------------------- 10.0/44.5 MB 1.4 MB/s eta 0:00:25\n",
      "   -------- ------------------------------- 10.0/44.5 MB 1.4 MB/s eta 0:00:25\n",
      "   -------- ------------------------------- 10.0/44.5 MB 1.4 MB/s eta 0:00:25\n",
      "   -------- ------------------------------- 10.0/44.5 MB 1.4 MB/s eta 0:00:25\n",
      "   -------- ------------------------------- 10.0/44.5 MB 1.4 MB/s eta 0:00:25\n",
      "   -------- ------------------------------- 10.0/44.5 MB 1.4 MB/s eta 0:00:25\n",
      "   -------- ------------------------------- 10.0/44.5 MB 1.4 MB/s eta 0:00:25\n",
      "   -------- ------------------------------- 10.0/44.5 MB 1.4 MB/s eta 0:00:25\n",
      "   -------- ------------------------------- 10.0/44.5 MB 1.4 MB/s eta 0:00:25\n",
      "   -------- ------------------------------- 10.0/44.5 MB 1.4 MB/s eta 0:00:25\n",
      "   -------- ------------------------------- 10.0/44.5 MB 1.4 MB/s eta 0:00:25\n",
      "   -------- ------------------------------- 10.0/44.5 MB 1.4 MB/s eta 0:00:25\n",
      "   -------- ------------------------------- 10.0/44.5 MB 1.4 MB/s eta 0:00:25\n",
      "   -------- ------------------------------- 10.0/44.5 MB 1.4 MB/s eta 0:00:25\n",
      "   -------- ------------------------------- 10.0/44.5 MB 1.4 MB/s eta 0:00:25\n",
      "   -------- ------------------------------- 10.0/44.5 MB 1.4 MB/s eta 0:00:25\n",
      "   -------- ------------------------------- 10.0/44.5 MB 1.4 MB/s eta 0:00:25\n",
      "   --------- ------------------------------ 10.2/44.5 MB 874.5 kB/s eta 0:00:40\n",
      "   --------- ------------------------------ 10.2/44.5 MB 874.5 kB/s eta 0:00:40\n",
      "   --------- ------------------------------ 10.2/44.5 MB 874.5 kB/s eta 0:00:40\n",
      "   --------- ------------------------------ 10.2/44.5 MB 874.5 kB/s eta 0:00:40\n",
      "   --------- ------------------------------ 10.2/44.5 MB 874.5 kB/s eta 0:00:40\n",
      "   --------- ------------------------------ 10.5/44.5 MB 819.9 kB/s eta 0:00:42\n",
      "   --------- ------------------------------ 10.5/44.5 MB 819.9 kB/s eta 0:00:42\n",
      "   --------- ------------------------------ 10.5/44.5 MB 819.9 kB/s eta 0:00:42\n",
      "   --------- ------------------------------ 10.5/44.5 MB 819.9 kB/s eta 0:00:42\n",
      "   --------- ------------------------------ 10.7/44.5 MB 796.1 kB/s eta 0:00:43\n",
      "   --------- ------------------------------ 10.7/44.5 MB 796.1 kB/s eta 0:00:43\n",
      "   --------- ------------------------------ 11.0/44.5 MB 780.8 kB/s eta 0:00:43\n",
      "   --------- ------------------------------ 11.0/44.5 MB 780.8 kB/s eta 0:00:43\n",
      "   --------- ------------------------------ 11.0/44.5 MB 780.8 kB/s eta 0:00:43\n",
      "   ---------- ----------------------------- 11.3/44.5 MB 771.8 kB/s eta 0:00:44\n",
      "   ---------- ----------------------------- 11.3/44.5 MB 771.8 kB/s eta 0:00:44\n",
      "   ---------- ----------------------------- 11.5/44.5 MB 766.7 kB/s eta 0:00:44\n",
      "   ---------- ----------------------------- 11.5/44.5 MB 766.7 kB/s eta 0:00:44\n",
      "   ---------- ----------------------------- 11.8/44.5 MB 764.2 kB/s eta 0:00:43\n",
      "   ---------- ----------------------------- 12.1/44.5 MB 762.6 kB/s eta 0:00:43\n",
      "   ---------- ----------------------------- 12.1/44.5 MB 762.6 kB/s eta 0:00:43\n",
      "   ----------- ---------------------------- 12.3/44.5 MB 762.6 kB/s eta 0:00:43\n",
      "   ----------- ---------------------------- 12.6/44.5 MB 764.1 kB/s eta 0:00:42\n",
      "   ----------- ---------------------------- 12.6/44.5 MB 764.1 kB/s eta 0:00:42\n",
      "   ----------- ---------------------------- 12.8/44.5 MB 765.5 kB/s eta 0:00:42\n",
      "   ----------- ---------------------------- 13.1/44.5 MB 768.3 kB/s eta 0:00:41\n",
      "   ------------ --------------------------- 13.4/44.5 MB 771.7 kB/s eta 0:00:41\n",
      "   ------------ --------------------------- 13.6/44.5 MB 777.2 kB/s eta 0:00:40\n",
      "   ------------ --------------------------- 13.9/44.5 MB 783.8 kB/s eta 0:00:40\n",
      "   ------------ --------------------------- 14.2/44.5 MB 791.1 kB/s eta 0:00:39\n",
      "   ------------ --------------------------- 14.4/44.5 MB 798.9 kB/s eta 0:00:38\n",
      "   ------------- -------------------------- 14.9/44.5 MB 814.8 kB/s eta 0:00:37\n",
      "   ------------- -------------------------- 15.5/44.5 MB 832.4 kB/s eta 0:00:35\n",
      "   -------------- ------------------------- 16.0/44.5 MB 850.2 kB/s eta 0:00:34\n",
      "   -------------- ------------------------- 16.5/44.5 MB 869.0 kB/s eta 0:00:33\n",
      "   --------------- ------------------------ 17.0/44.5 MB 887.4 kB/s eta 0:00:31\n",
      "   ---------------- ----------------------- 17.8/44.5 MB 916.9 kB/s eta 0:00:30\n",
      "   ---------------- ----------------------- 18.6/44.5 MB 946.3 kB/s eta 0:00:28\n",
      "   ----------------- ---------------------- 19.4/44.5 MB 975.9 kB/s eta 0:00:26\n",
      "   ------------------ --------------------- 20.2/44.5 MB 1.0 MB/s eta 0:00:25\n",
      "   ------------------- -------------------- 21.2/44.5 MB 1.0 MB/s eta 0:00:23\n",
      "   ------------------- -------------------- 22.0/44.5 MB 1.1 MB/s eta 0:00:21\n",
      "   -------------------- ------------------- 23.3/44.5 MB 1.1 MB/s eta 0:00:19\n",
      "   --------------------- ------------------ 24.4/44.5 MB 1.2 MB/s eta 0:00:18\n",
      "   ----------------------- ---------------- 25.7/44.5 MB 1.2 MB/s eta 0:00:16\n",
      "   ------------------------ --------------- 27.0/44.5 MB 1.3 MB/s eta 0:00:14\n",
      "   ------------------------- -------------- 28.3/44.5 MB 1.3 MB/s eta 0:00:13\n",
      "   ------------------------- -------------- 28.8/44.5 MB 1.3 MB/s eta 0:00:12\n",
      "   -------------------------- ------------- 29.6/44.5 MB 1.3 MB/s eta 0:00:12\n",
      "   --------------------------- ------------ 30.4/44.5 MB 1.4 MB/s eta 0:00:11\n",
      "   --------------------------- ------------ 30.9/44.5 MB 1.4 MB/s eta 0:00:10\n",
      "   ---------------------------- ----------- 31.5/44.5 MB 1.4 MB/s eta 0:00:10\n",
      "   ---------------------------- ----------- 31.7/44.5 MB 1.4 MB/s eta 0:00:10\n",
      "   ---------------------------- ----------- 32.2/44.5 MB 1.4 MB/s eta 0:00:09\n",
      "   ----------------------------- ---------- 32.5/44.5 MB 1.4 MB/s eta 0:00:09\n",
      "   ----------------------------- ---------- 32.8/44.5 MB 1.4 MB/s eta 0:00:09\n",
      "   ----------------------------- ---------- 33.0/44.5 MB 1.4 MB/s eta 0:00:09\n",
      "   ----------------------------- ---------- 33.3/44.5 MB 1.4 MB/s eta 0:00:09\n",
      "   ------------------------------ --------- 33.8/44.5 MB 1.4 MB/s eta 0:00:08\n",
      "   ------------------------------ --------- 34.1/44.5 MB 1.4 MB/s eta 0:00:08\n",
      "   ------------------------------ --------- 34.3/44.5 MB 1.4 MB/s eta 0:00:08\n",
      "   ------------------------------- -------- 34.6/44.5 MB 1.4 MB/s eta 0:00:08\n",
      "   ------------------------------- -------- 34.9/44.5 MB 1.4 MB/s eta 0:00:07\n",
      "   ------------------------------- -------- 35.4/44.5 MB 1.4 MB/s eta 0:00:07\n",
      "   -------------------------------- ------- 35.7/44.5 MB 1.4 MB/s eta 0:00:07\n",
      "   -------------------------------- ------- 35.9/44.5 MB 1.4 MB/s eta 0:00:07\n",
      "   -------------------------------- ------- 36.4/44.5 MB 1.4 MB/s eta 0:00:06\n",
      "   -------------------------------- ------- 36.7/44.5 MB 1.4 MB/s eta 0:00:06\n",
      "   --------------------------------- ------ 37.2/44.5 MB 1.4 MB/s eta 0:00:06\n",
      "   --------------------------------- ------ 37.5/44.5 MB 1.4 MB/s eta 0:00:05\n",
      "   ---------------------------------- ----- 38.0/44.5 MB 1.4 MB/s eta 0:00:05\n",
      "   ---------------------------------- ----- 38.3/44.5 MB 1.4 MB/s eta 0:00:05\n",
      "   ---------------------------------- ----- 38.5/44.5 MB 1.4 MB/s eta 0:00:05\n",
      "   ----------------------------------- ---- 39.1/44.5 MB 1.4 MB/s eta 0:00:04\n",
      "   ----------------------------------- ---- 39.6/44.5 MB 1.4 MB/s eta 0:00:04\n",
      "   ----------------------------------- ---- 39.8/44.5 MB 1.4 MB/s eta 0:00:04\n",
      "   ------------------------------------ --- 40.4/44.5 MB 1.4 MB/s eta 0:00:03\n",
      "   ------------------------------------ --- 40.6/44.5 MB 1.4 MB/s eta 0:00:03\n",
      "   ------------------------------------ --- 41.2/44.5 MB 1.5 MB/s eta 0:00:03\n",
      "   ------------------------------------- -- 41.7/44.5 MB 1.5 MB/s eta 0:00:02\n",
      "   ------------------------------------- -- 41.9/44.5 MB 1.5 MB/s eta 0:00:02\n",
      "   -------------------------------------- - 42.5/44.5 MB 1.5 MB/s eta 0:00:02\n",
      "   -------------------------------------- - 43.0/44.5 MB 1.5 MB/s eta 0:00:02\n",
      "   ---------------------------------------  43.5/44.5 MB 1.5 MB/s eta 0:00:01\n",
      "   ---------------------------------------  44.0/44.5 MB 1.5 MB/s eta 0:00:01\n",
      "   ---------------------------------------  44.3/44.5 MB 1.5 MB/s eta 0:00:01\n",
      "   ---------------------------------------  44.3/44.5 MB 1.5 MB/s eta 0:00:01\n",
      "   ---------------------------------------- 44.5/44.5 MB 1.5 MB/s eta 0:00:00\n",
      "Using cached seaborn-0.13.2-py3-none-any.whl (294 kB)\n",
      "Using cached ultralytics_thop-2.0.11-py3-none-any.whl (26 kB)\n",
      "Using cached py_cpuinfo-9.0.0-py3-none-any.whl (22 kB)\n",
      "Using cached pytz-2024.2-py2.py3-none-any.whl (508 kB)\n",
      "Using cached tzdata-2024.2-py2.py3-none-any.whl (346 kB)\n",
      "Installing collected packages: pytz, py-cpuinfo, tzdata, scipy, pandas, ultralytics-thop, seaborn, ultralytics\n",
      "Successfully installed pandas-2.2.3 py-cpuinfo-9.0.0 pytz-2024.2 scipy-1.14.1 seaborn-0.13.2 tzdata-2024.2 ultralytics-8.3.32 ultralytics-thop-2.0.11\n",
      "Note: you may need to restart the kernel to use updated packages.\n"
     ]
    }
   ],
   "source": [
    "pip install ultralytics"
   ]
  },
  {
   "cell_type": "code",
   "execution_count": null,
   "id": "0efcc919-719d-4963-a901-5a062fa0b127",
   "metadata": {},
   "outputs": [
    {
     "name": "stdout",
     "output_type": "stream",
     "text": [
      "Downloading https://github.com/ultralytics/assets/releases/download/v8.3.0/yolo11n.pt to 'yolo11n.pt'...\n"
     ]
    },
    {
     "name": "stderr",
     "output_type": "stream",
     "text": [
      "100%|█████████████████████████████████████████████████████████████████████████████| 5.35M/5.35M [00:01<00:00, 3.71MB/s]\n"
     ]
    },
    {
     "name": "stdout",
     "output_type": "stream",
     "text": [
      "Ultralytics 8.3.32  Python-3.12.7 torch-2.5.1 CPU (Intel Core(TM) i5-7400 3.00GHz)\n",
      "\u001b[34m\u001b[1mengine\\trainer: \u001b[0mtask=detect, mode=train, model=yolo11n.pt, data=coco8.yaml, epochs=100, time=None, patience=100, batch=16, imgsz=640, save=True, save_period=-1, cache=False, device=cpu, workers=8, project=None, name=train, exist_ok=False, pretrained=True, optimizer=auto, verbose=True, seed=0, deterministic=True, single_cls=False, rect=False, cos_lr=False, close_mosaic=10, resume=False, amp=True, fraction=1.0, profile=False, freeze=None, multi_scale=False, overlap_mask=True, mask_ratio=4, dropout=0.0, val=True, split=val, save_json=False, save_hybrid=False, conf=None, iou=0.7, max_det=300, half=False, dnn=False, plots=True, source=None, vid_stride=1, stream_buffer=False, visualize=False, augment=False, agnostic_nms=False, classes=None, retina_masks=False, embed=None, show=False, save_frames=False, save_txt=False, save_conf=False, save_crop=False, show_labels=True, show_conf=True, show_boxes=True, line_width=None, format=torchscript, keras=False, optimize=False, int8=False, dynamic=False, simplify=True, opset=None, workspace=4, nms=False, lr0=0.01, lrf=0.01, momentum=0.937, weight_decay=0.0005, warmup_epochs=3.0, warmup_momentum=0.8, warmup_bias_lr=0.1, box=7.5, cls=0.5, dfl=1.5, pose=12.0, kobj=1.0, label_smoothing=0.0, nbs=64, hsv_h=0.015, hsv_s=0.7, hsv_v=0.4, degrees=0.0, translate=0.1, scale=0.5, shear=0.0, perspective=0.0, flipud=0.0, fliplr=0.5, bgr=0.0, mosaic=1.0, mixup=0.0, copy_paste=0.0, copy_paste_mode=flip, auto_augment=randaugment, erasing=0.4, crop_fraction=1.0, cfg=None, tracker=botsort.yaml, save_dir=runs\\detect\\train\n",
      "\n",
      "Dataset 'coco8.yaml' images not found , missing path 'C:\\Windows\\System32\\yolov5\\datasets\\coco8\\images\\val'\n",
      "Downloading https://ultralytics.com/assets/coco8.zip to 'C:\\Windows\\System32\\yolov5\\datasets\\coco8.zip'...\n"
     ]
    },
    {
     "name": "stderr",
     "output_type": "stream",
     "text": [
      "100%|███████████████████████████████████████████████████████████████████████████████| 433k/433k [00:00<00:00, 1.76MB/s]\n",
      "Unzipping C:\\Windows\\System32\\yolov5\\datasets\\coco8.zip to C:\\Windows\\System32\\yolov5\\datasets\\coco8...: 100%|█████████"
     ]
    },
    {
     "name": "stdout",
     "output_type": "stream",
     "text": [
      "Dataset download success  (1.9s), saved to \u001b[1mC:\\Windows\\System32\\yolov5\\datasets\u001b[0m\n",
      "\n"
     ]
    },
    {
     "name": "stderr",
     "output_type": "stream",
     "text": [
      "\n"
     ]
    },
    {
     "name": "stdout",
     "output_type": "stream",
     "text": [
      "Downloading https://ultralytics.com/assets/Arial.ttf to 'C:\\Users\\user\\AppData\\Roaming\\Ultralytics\\Arial.ttf'...\n"
     ]
    },
    {
     "name": "stderr",
     "output_type": "stream",
     "text": [
      "100%|███████████████████████████████████████████████████████████████████████████████| 755k/755k [00:00<00:00, 2.29MB/s]\n"
     ]
    },
    {
     "name": "stdout",
     "output_type": "stream",
     "text": [
      "\n",
      "                   from  n    params  module                                       arguments                     \n",
      "  0                  -1  1       464  ultralytics.nn.modules.conv.Conv             [3, 16, 3, 2]                 \n",
      "  1                  -1  1      4672  ultralytics.nn.modules.conv.Conv             [16, 32, 3, 2]                \n",
      "  2                  -1  1      6640  ultralytics.nn.modules.block.C3k2            [32, 64, 1, False, 0.25]      \n",
      "  3                  -1  1     36992  ultralytics.nn.modules.conv.Conv             [64, 64, 3, 2]                \n",
      "  4                  -1  1     26080  ultralytics.nn.modules.block.C3k2            [64, 128, 1, False, 0.25]     \n",
      "  5                  -1  1    147712  ultralytics.nn.modules.conv.Conv             [128, 128, 3, 2]              \n",
      "  6                  -1  1     87040  ultralytics.nn.modules.block.C3k2            [128, 128, 1, True]           \n",
      "  7                  -1  1    295424  ultralytics.nn.modules.conv.Conv             [128, 256, 3, 2]              \n",
      "  8                  -1  1    346112  ultralytics.nn.modules.block.C3k2            [256, 256, 1, True]           \n",
      "  9                  -1  1    164608  ultralytics.nn.modules.block.SPPF            [256, 256, 5]                 \n",
      " 10                  -1  1    249728  ultralytics.nn.modules.block.C2PSA           [256, 256, 1]                 \n",
      " 11                  -1  1         0  torch.nn.modules.upsampling.Upsample         [None, 2, 'nearest']          \n",
      " 12             [-1, 6]  1         0  ultralytics.nn.modules.conv.Concat           [1]                           \n",
      " 13                  -1  1    111296  ultralytics.nn.modules.block.C3k2            [384, 128, 1, False]          \n",
      " 14                  -1  1         0  torch.nn.modules.upsampling.Upsample         [None, 2, 'nearest']          \n",
      " 15             [-1, 4]  1         0  ultralytics.nn.modules.conv.Concat           [1]                           \n",
      " 16                  -1  1     32096  ultralytics.nn.modules.block.C3k2            [256, 64, 1, False]           \n",
      " 17                  -1  1     36992  ultralytics.nn.modules.conv.Conv             [64, 64, 3, 2]                \n",
      " 18            [-1, 13]  1         0  ultralytics.nn.modules.conv.Concat           [1]                           \n",
      " 19                  -1  1     86720  ultralytics.nn.modules.block.C3k2            [192, 128, 1, False]          \n",
      " 20                  -1  1    147712  ultralytics.nn.modules.conv.Conv             [128, 128, 3, 2]              \n",
      " 21            [-1, 10]  1         0  ultralytics.nn.modules.conv.Concat           [1]                           \n",
      " 22                  -1  1    378880  ultralytics.nn.modules.block.C3k2            [384, 256, 1, True]           \n",
      " 23        [16, 19, 22]  1    464912  ultralytics.nn.modules.head.Detect           [80, [64, 128, 256]]          \n",
      "YOLO11n summary: 319 layers, 2,624,080 parameters, 2,624,064 gradients, 6.6 GFLOPs\n",
      "\n",
      "Transferred 499/499 items from pretrained weights\n",
      "\u001b[34m\u001b[1mTensorBoard: \u001b[0mWARNING  TensorBoard not initialized correctly, not logging this run. runs\\detect\\train is not a directory\n",
      "Freezing layer 'model.23.dfl.conv.weight'\n"
     ]
    },
    {
     "name": "stderr",
     "output_type": "stream",
     "text": [
      "\u001b[34m\u001b[1mtrain: \u001b[0mScanning C:\\Windows\\System32\\yolov5\\datasets\\coco8\\labels\\train... 4 images, 0 backgrounds, 0 corrupt: 100%|████\u001b[0m"
     ]
    },
    {
     "name": "stdout",
     "output_type": "stream",
     "text": [
      "\u001b[34m\u001b[1mtrain: \u001b[0mNew cache created: C:\\Windows\\System32\\yolov5\\datasets\\coco8\\labels\\train.cache\n"
     ]
    },
    {
     "name": "stderr",
     "output_type": "stream",
     "text": [
      "\n",
      "\u001b[34m\u001b[1mval: \u001b[0mScanning C:\\Windows\\System32\\yolov5\\datasets\\coco8\\labels\\val... 4 images, 0 backgrounds, 0 corrupt: 100%|████████\u001b[0m"
     ]
    },
    {
     "name": "stdout",
     "output_type": "stream",
     "text": [
      "\u001b[34m\u001b[1mval: \u001b[0mNew cache created: C:\\Windows\\System32\\yolov5\\datasets\\coco8\\labels\\val.cache\n"
     ]
    },
    {
     "name": "stderr",
     "output_type": "stream",
     "text": [
      "\n"
     ]
    },
    {
     "name": "stdout",
     "output_type": "stream",
     "text": [
      "Plotting labels to runs\\detect\\train\\labels.jpg... \n",
      "\u001b[34m\u001b[1moptimizer:\u001b[0m 'optimizer=auto' found, ignoring 'lr0=0.01' and 'momentum=0.937' and determining best 'optimizer', 'lr0' and 'momentum' automatically... \n",
      "\u001b[34m\u001b[1moptimizer:\u001b[0m AdamW(lr=0.000119, momentum=0.9) with parameter groups 81 weight(decay=0.0), 88 weight(decay=0.0005), 87 bias(decay=0.0)\n",
      "Image sizes 640 train, 640 val\n",
      "Using 0 dataloader workers\n",
      "Logging results to \u001b[1mruns\\detect\\train\u001b[0m\n",
      "Starting training for 100 epochs...\n",
      "\n",
      "      Epoch    GPU_mem   box_loss   cls_loss   dfl_loss  Instances       Size\n"
     ]
    },
    {
     "name": "stderr",
     "output_type": "stream",
     "text": [
      "      1/100         0G      1.336      2.869      1.644         22        640: 100%|██████████| 1/1 [00:02<00:00,  2.59\n",
      "                 Class     Images  Instances      Box(P          R      mAP50  mAP50-95): 100%|██████████| 1/1 [00:00<0"
     ]
    },
    {
     "name": "stdout",
     "output_type": "stream",
     "text": [
      "                   all          4         17      0.575       0.85      0.878      0.635\n"
     ]
    },
    {
     "name": "stderr",
     "output_type": "stream",
     "text": [
      "\n"
     ]
    },
    {
     "name": "stdout",
     "output_type": "stream",
     "text": [
      "\n",
      "      Epoch    GPU_mem   box_loss   cls_loss   dfl_loss  Instances       Size\n"
     ]
    },
    {
     "name": "stderr",
     "output_type": "stream",
     "text": [
      "      2/100         0G      1.204      2.694      1.511         23        640: 100%|██████████| 1/1 [00:01<00:00,  1.97\n",
      "                 Class     Images  Instances      Box(P          R      mAP50  mAP50-95): 100%|██████████| 1/1 [00:00<0"
     ]
    },
    {
     "name": "stdout",
     "output_type": "stream",
     "text": [
      "                   all          4         17      0.566       0.85      0.849      0.632\n"
     ]
    },
    {
     "name": "stderr",
     "output_type": "stream",
     "text": [
      "\n"
     ]
    },
    {
     "name": "stdout",
     "output_type": "stream",
     "text": [
      "\n",
      "      Epoch    GPU_mem   box_loss   cls_loss   dfl_loss  Instances       Size\n"
     ]
    },
    {
     "name": "stderr",
     "output_type": "stream",
     "text": [
      "      3/100         0G       1.16      3.633      1.573         16        640: 100%|██████████| 1/1 [00:01<00:00,  1.92\n",
      "                 Class     Images  Instances      Box(P          R      mAP50  mAP50-95): 100%|██████████| 1/1 [00:00<0"
     ]
    },
    {
     "name": "stdout",
     "output_type": "stream",
     "text": [
      "                   all          4         17       0.56       0.85      0.851      0.633\n"
     ]
    },
    {
     "name": "stderr",
     "output_type": "stream",
     "text": [
      "\n"
     ]
    },
    {
     "name": "stdout",
     "output_type": "stream",
     "text": [
      "\n",
      "      Epoch    GPU_mem   box_loss   cls_loss   dfl_loss  Instances       Size\n"
     ]
    },
    {
     "name": "stderr",
     "output_type": "stream",
     "text": [
      "      4/100         0G      1.277       2.74      1.389         35        640: 100%|██████████| 1/1 [00:01<00:00,  1.84\n",
      "                 Class     Images  Instances      Box(P          R      mAP50  mAP50-95): 100%|██████████| 1/1 [00:00<0"
     ]
    },
    {
     "name": "stdout",
     "output_type": "stream",
     "text": [
      "                   all          4         17       0.56       0.85       0.85      0.616\n"
     ]
    },
    {
     "name": "stderr",
     "output_type": "stream",
     "text": [
      "\n"
     ]
    },
    {
     "name": "stdout",
     "output_type": "stream",
     "text": [
      "\n",
      "      Epoch    GPU_mem   box_loss   cls_loss   dfl_loss  Instances       Size\n"
     ]
    },
    {
     "name": "stderr",
     "output_type": "stream",
     "text": [
      "  0%|          | 0/1 [00:00<?, ?it/s]"
     ]
    }
   ],
   "source": [
    "from ultralytics import YOLO\n",
    "\n",
    "# Load a model\n",
    "model = YOLO(\"yolo11n.pt\")\n",
    "\n",
    "# Train the model\n",
    "train_results = model.train(\n",
    "    data=\"coco8.yaml\",  # path to dataset YAML\n",
    "    epochs=100,  # number of training epochs\n",
    "    imgsz=640,  # training image size\n",
    "    device=\"cpu\",  # device to run on, i.e. device=0 or device=0,1,2,3 or device=cpu\n",
    ")\n",
    "\n",
    "# Evaluate model performance on the validation set\n",
    "metrics = model.val()\n",
    "\n",
    "# Perform object detection on an image\n",
    "results = model(\"path/to/image.jpg\")\n",
    "results[0].show()\n",
    "\n",
    "# Export the model to ONNX format\n",
    "path = model.export(format=\"onnx\")  # return path to exported model"
   ]
  },
  {
   "cell_type": "code",
   "execution_count": 1,
   "id": "2032f8fb-71c9-4620-bb9f-7c032f6c2c5e",
   "metadata": {},
   "outputs": [
    {
     "ename": "ModuleNotFoundError",
     "evalue": "No module named 'yolov5'",
     "output_type": "error",
     "traceback": [
      "\u001b[1;31m---------------------------------------------------------------------------\u001b[0m",
      "\u001b[1;31mModuleNotFoundError\u001b[0m                       Traceback (most recent call last)",
      "Cell \u001b[1;32mIn[1], line 2\u001b[0m\n\u001b[0;32m      1\u001b[0m \u001b[38;5;28;01mimport\u001b[39;00m \u001b[38;5;21;01mcv2\u001b[39;00m\n\u001b[1;32m----> 2\u001b[0m \u001b[38;5;28;01mfrom\u001b[39;00m \u001b[38;5;21;01myolov5\u001b[39;00m \u001b[38;5;28;01mimport\u001b[39;00m YOLOv5\n\u001b[0;32m      4\u001b[0m \u001b[38;5;66;03m# Load the YOLO model\u001b[39;00m\n\u001b[0;32m      5\u001b[0m yolo \u001b[38;5;241m=\u001b[39m YOLOv5(\u001b[38;5;124m'\u001b[39m\u001b[38;5;124myolov5s.pt\u001b[39m\u001b[38;5;124m'\u001b[39m)\n",
      "\u001b[1;31mModuleNotFoundError\u001b[0m: No module named 'yolov5'"
     ]
    }
   ],
   "source": [
    "import cv2\n",
    "from yolov5 import YOLOv5\n",
    "\n",
    "# Load the YOLO model\n",
    "yolo = YOLOv5('yolov5s.pt')\n",
    "\n",
    "# Load an image\n",
    "image = cv2.imread('image.jpg')\n",
    "\n",
    "# Perform detection\n",
    "results = yolo.predict(image)\n",
    "\n",
    "# Display results\n",
    "for result in results:\n",
    "    cv2.rectangle(image, (result['x1'], result['y1']), (result['x2'], result['y2']), (255, 0, 0), 2)\n",
    "cv2.imshow('Detected Faces', image)\n",
    "cv2.waitKey(0)\n",
    "cv2.destroyAllWindows()"
   ]
  },
  {
   "cell_type": "code",
   "execution_count": null,
   "id": "d2aeb0b9-ed19-4b6b-bb20-f6e2cd07b3de",
   "metadata": {},
   "outputs": [],
   "source": []
  }
 ],
 "metadata": {
  "kernelspec": {
   "display_name": "Python (my_pytorch_env)",
   "language": "python",
   "name": "my_pytorch_env"
  },
  "language_info": {
   "codemirror_mode": {
    "name": "ipython",
    "version": 3
   },
   "file_extension": ".py",
   "mimetype": "text/x-python",
   "name": "python",
   "nbconvert_exporter": "python",
   "pygments_lexer": "ipython3",
   "version": "3.12.7"
  }
 },
 "nbformat": 4,
 "nbformat_minor": 5
}
