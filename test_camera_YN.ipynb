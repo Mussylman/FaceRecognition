{
 "cells": [
  {
   "cell_type": "code",
   "execution_count": 19,
   "id": "21628518-715b-4b3f-b9d6-81791208e9de",
   "metadata": {},
   "outputs": [
    {
     "name": "stdout",
     "output_type": "stream",
     "text": [
      "Start Receiving\n"
     ]
    }
   ],
   "source": [
    "import cv2\n",
    "from mtcnn import MTCNN\n",
    "\n",
    "username = \"admin\"\n",
    "password = \"Qaz445566\"\n",
    "ip_address = \"192.168.18.59\"\n",
    "port = \"554\"\n",
    "stream_path = \"/stream1\"\n",
    "url = f\"rtsp://{username}:{password}@{ip_address}:{port}{stream_path}?tcp\"\n",
    "print(\"Start Receiving\")\n",
    "cap = cv2.VideoCapture(url,cv2.CAP_FFMPEG)\n",
    "detector = MTCNN()\n",
    "\n",
    "# Захват и обработка видео\n",
    "while True:\n",
    "    ret, frame = cap.read()\n",
    "    if not ret:\n",
    "        break\n",
    "    \n",
    "    # Пропуск кадров для повышения производительности\n",
    "    if int(cap.get(cv2.CAP_PROP_POS_FRAMES)) % 5 == 0:  # Обработка каждого 5-го кадра\n",
    "        rgb_frame = cv2.cvtColor(frame, cv2.COLOR_BGR2RGB)\n",
    "        faces = detector.detect_faces(rgb_frame)\n",
    "        \n",
    "        # Отображение найденных лиц\n",
    "        for face in faces:\n",
    "            x, y, w, h = face['box']\n",
    "            cv2.rectangle(frame, (x, y), (x + w, y + h), (255, 0, 0), 2)\n",
    "    \n",
    "    cv2.imshow('Real-time Face Detection', frame)\n",
    "    \n",
    "    # Выход по нажатию клавиши 'q'\n",
    "    if cv2.waitKey(1) & 0xFF == ord('q'):\n",
    "        break\n",
    "\n",
    "# Освобождение ресурсов\n",
    "cap.release()\n",
    "cv2.destroyAllWindows()\n"
   ]
  },
  {
   "cell_type": "code",
   "execution_count": null,
   "id": "94fad040-4ec2-48d7-bfd2-4b013d8d6f24",
   "metadata": {},
   "outputs": [],
   "source": []
  }
 ],
 "metadata": {
  "kernelspec": {
   "display_name": "Python (my_pytorch_env)",
   "language": "python",
   "name": "my_pytorch_env"
  },
  "language_info": {
   "codemirror_mode": {
    "name": "ipython",
    "version": 3
   },
   "file_extension": ".py",
   "mimetype": "text/x-python",
   "name": "python",
   "nbconvert_exporter": "python",
   "pygments_lexer": "ipython3",
   "version": "3.12.7"
  }
 },
 "nbformat": 4,
 "nbformat_minor": 5
}
